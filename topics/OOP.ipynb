{
 "cells": [
  {
   "cell_type": "markdown",
   "metadata": {},
   "source": [
    "# OOP"
   ]
  },
  {
   "cell_type": "markdown",
   "metadata": {},
   "source": [
    "### Class methods and members\n",
    "\n",
    "Instance methods work on specific object, class methods work on the entire class"
   ]
  },
  {
   "cell_type": "code",
   "execution_count": 1,
   "metadata": {},
   "outputs": [],
   "source": [
    "class Book:\n",
    "  BOOK_TYPES = ('HARDCOVER', 'PAPERBACK', 'EBOOK')\n",
    "\n",
    "  def __init__(self, title, booktype):\n",
    "    self.title = title\n",
    "    if (not booktype in Book.BOOK_TYPES):\n",
    "      raise ValueError(f'{booktype} is not a valid book type')\n",
    "    self.booktype = booktype\n",
    "\n",
    "@classmethod\n",
    "def getbooktypes(cls):\n",
    "    return cls.BOOK_TYPES\n"
   ]
  },
  {
   "cell_type": "markdown",
   "metadata": {},
   "source": [
    "### Static methods\n",
    "\n",
    "Static methods don't modify the state of either the class or a specific object instance.\n",
    "It is just a way of taking a global function and putting it in the classes namespace"
   ]
  },
  {
   "cell_type": "code",
   "execution_count": 2,
   "metadata": {},
   "outputs": [
    {
     "name": "stdout",
     "output_type": "stream",
     "text": [
      "[<__main__.Book object at 0x7f4d3df8aad0>, <__main__.Book object at 0x7f4d3df8ac50>]\n"
     ]
    }
   ],
   "source": [
    "class Book:\n",
    "    __booklist = None\n",
    "\n",
    "    @staticmethod\n",
    "    def getbooklist():\n",
    "        if Book.__booklist == None:\n",
    "            Book.__booklist = []\n",
    "        return Book.__booklist\n",
    "\n",
    "thebooks = Book.getbooklist()\n",
    "thebooks.append(Book())\n",
    "thebooks.append(Book())\n",
    "print(thebooks) "
   ]
  }
 ],
 "metadata": {
  "kernelspec": {
   "display_name": "Python 3.10.4 64-bit",
   "language": "python",
   "name": "python3"
  },
  "language_info": {
   "codemirror_mode": {
    "name": "ipython",
    "version": 3
   },
   "file_extension": ".py",
   "mimetype": "text/x-python",
   "name": "python",
   "nbconvert_exporter": "python",
   "pygments_lexer": "ipython3",
   "version": "3.10.4"
  },
  "orig_nbformat": 4,
  "vscode": {
   "interpreter": {
    "hash": "3ad933181bd8a04b432d3370b9dc3b0662ad032c4dfaa4e4f1596c548f763858"
   }
  }
 },
 "nbformat": 4,
 "nbformat_minor": 2
}
