{
 "cells": [
  {
   "attachments": {},
   "cell_type": "markdown",
   "metadata": {},
   "source": [
    "# String"
   ]
  },
  {
   "cell_type": "code",
   "execution_count": 20,
   "metadata": {},
   "outputs": [
    {
     "name": "stdout",
     "output_type": "stream",
     "text": [
      "Original string: фффф\n",
      "Type of encoded string: <class 'bytes'>\n",
      "Type of decoded string: <class 'str'>\n",
      "Decoded string: 蓑蓑蓑蓑\n",
      "Try to decode using ascii encoding: <'ascii' codec can't decode byte 0xd1 in position 0: ordinal not in range(128)>\n"
     ]
    }
   ],
   "source": [
    "string = 'фффф'\n",
    "print('Original string:', string)\n",
    "encoded = string.encode(encoding='utf-8')\n",
    "print('Type of encoded string:', type(encoded))\n",
    "decoded = encoded.decode(encoding='utf-16')\n",
    "print('Type of decoded string:', type(decoded))\n",
    "print('Decoded string:', decoded)\n",
    "\n",
    "try:\n",
    "    encoded.decode(encoding='ascii')\n",
    "except Exception as e:\n",
    "    print(f'Try to decode using ascii encoding: <{e}>')"
   ]
  }
 ],
 "metadata": {
  "kernelspec": {
   "display_name": "venv",
   "language": "python",
   "name": "python3"
  },
  "language_info": {
   "codemirror_mode": {
    "name": "ipython",
    "version": 3
   },
   "file_extension": ".py",
   "mimetype": "text/x-python",
   "name": "python",
   "nbconvert_exporter": "python",
   "pygments_lexer": "ipython3",
   "version": "3.8.10"
  },
  "orig_nbformat": 4,
  "vscode": {
   "interpreter": {
    "hash": "0000805b724c1562212277f51ef19a430422aed4b5168dbda158a89ccfc728d6"
   }
  }
 },
 "nbformat": 4,
 "nbformat_minor": 2
}
