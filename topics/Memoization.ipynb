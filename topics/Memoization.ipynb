{
 "cells": [
  {
   "attachments": {},
   "cell_type": "markdown",
   "metadata": {},
   "source": [
    "# Memoization\n",
    "\n",
    "**Memoization** - an optimization technique that works by saving the results of previous invocations of an expensive function, avoiding repeat computations on previously used arguments."
   ]
  },
  {
   "cell_type": "code",
   "execution_count": 2,
   "metadata": {},
   "outputs": [
    {
     "name": "stdout",
     "output_type": "stream",
     "text": [
      "fibonacci(1) -> 1\n",
      "fibonacci(0) -> 0\n",
      "fibonacci(1) -> 1\n",
      "fibonacci(2) -> 1\n",
      "fibonacci(3) -> 2\n",
      "fibonacci(0) -> 0\n",
      "fibonacci(1) -> 1\n",
      "fibonacci(2) -> 1\n",
      "fibonacci(1) -> 1\n",
      "fibonacci(0) -> 0\n",
      "fibonacci(1) -> 1\n",
      "fibonacci(2) -> 1\n",
      "fibonacci(3) -> 2\n",
      "fibonacci(4) -> 3\n",
      "fibonacci(5) -> 5\n"
     ]
    },
    {
     "data": {
      "text/plain": [
       "5"
      ]
     },
     "execution_count": 2,
     "metadata": {},
     "output_type": "execute_result"
    }
   ],
   "source": [
    "def count(func):\n",
    "    def wrapper(*args):\n",
    "        result = func(*args)\n",
    "        print(f'{func.__name__}({\", \".join([repr(arg) for arg in args])}) -> {result}')\n",
    "        return result\n",
    "    return wrapper\n",
    "\n",
    "@count\n",
    "def fibonacci(n):\n",
    "    return n if n < 2 else fibonacci(n-2)+fibonacci(n-1)\n",
    "\n",
    "fibonacci(5)\n"
   ]
  }
 ],
 "metadata": {
  "kernelspec": {
   "display_name": "venv",
   "language": "python",
   "name": "python3"
  },
  "language_info": {
   "codemirror_mode": {
    "name": "ipython",
    "version": 3
   },
   "file_extension": ".py",
   "mimetype": "text/x-python",
   "name": "python",
   "nbconvert_exporter": "python",
   "pygments_lexer": "ipython3",
   "version": "3.8.10"
  },
  "orig_nbformat": 4,
  "vscode": {
   "interpreter": {
    "hash": "0000805b724c1562212277f51ef19a430422aed4b5168dbda158a89ccfc728d6"
   }
  }
 },
 "nbformat": 4,
 "nbformat_minor": 2
}
