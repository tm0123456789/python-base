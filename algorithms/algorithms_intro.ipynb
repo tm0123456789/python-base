{
 "cells": [
  {
   "attachments": {},
   "cell_type": "markdown",
   "metadata": {},
   "source": [
    "# Intro"
   ]
  },
  {
   "attachments": {},
   "cell_type": "markdown",
   "metadata": {},
   "source": [
    "### Algorithms Classification"
   ]
  },
  {
   "attachments": {},
   "cell_type": "markdown",
   "metadata": {},
   "source": [
    "- serial/parallel\n",
    "- exact/approximate (result)\n",
    "- deterministic/non-deterministic\n",
    "  \n",
    "#### Types of algorithms\n",
    "\n",
    "- search algorithms (find specific data in a structure)\n",
    "- sorting algorithms (sort dataset in a specific order)\n",
    "- compunational algorithms (given one set of data calculate another)\n",
    "- collection algorithms (work with collections of data)"
   ]
  },
  {
   "attachments": {},
   "cell_type": "markdown",
   "metadata": {},
   "source": [
    "### Algorithm Performance"
   ]
  },
  {
   "attachments": {},
   "cell_type": "markdown",
   "metadata": {},
   "source": [
    "Algorithm Complexity:\n",
    "\n",
    "- Space complexity: How much memory does it require?\n",
    "- Time complexity: how much time does it take to complete?\n",
    "\n",
    "Big-O notation:\n",
    "\n",
    "- Classifies performance (time complexity) as the input size grows\n",
    "- 'O' indicates the _order of operation_: time scale to perform an operation. It usually describes the worst case scenario of how long it takes to perform a given operation.\n",
    "\n",
    "| Notation         | Description               | Example                                                                            |\n",
    "| ---------------- | ------------------------- | ---------------------------------------------------------------------------------- |\n",
    "| O(1)             | Constant time             | Looking up a single element in an array                                            |\n",
    "| O(log n)         | Logarithmic               | Finding an item in a sorted array with a binary search                             |\n",
    "| O(n)             | Linear time               | Searching an unsorted array for a specific value                                   |\n",
    "| O(n log n)       | Linearithmic (Log-linear) | Complex sorting algorithms like heap sort and merge sort                           |\n",
    "| O(n<sup>2</sup>) | Quadratic                 | Simple sorting algorithms, such as bubble sort, selection sort, and insertion sort |\n"
   ]
  }
 ],
 "metadata": {
  "kernelspec": {
   "display_name": "venv",
   "language": "python",
   "name": "python3"
  },
  "language_info": {
   "name": "python",
   "version": "3.8.10 (default, Jun 22 2022, 20:18:18) \n[GCC 9.4.0]"
  },
  "orig_nbformat": 4,
  "vscode": {
   "interpreter": {
    "hash": "0000805b724c1562212277f51ef19a430422aed4b5168dbda158a89ccfc728d6"
   }
  }
 },
 "nbformat": 4,
 "nbformat_minor": 2
}
